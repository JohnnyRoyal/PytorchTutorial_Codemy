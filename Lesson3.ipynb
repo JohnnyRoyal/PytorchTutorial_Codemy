{
 "cells": [
  {
   "cell_type": "markdown",
   "metadata": {},
   "source": [
    "Tensor Math"
   ]
  },
  {
   "cell_type": "code",
   "execution_count": 2,
   "metadata": {},
   "outputs": [],
   "source": [
    "import torch\n",
    "import numpy as np"
   ]
  },
  {
   "cell_type": "markdown",
   "metadata": {},
   "source": [
    "Δύο τρόποι να φτιάξω τενσορες και ωραίος τρόπος να κάνω print string και variables"
   ]
  },
  {
   "cell_type": "code",
   "execution_count": 18,
   "metadata": {},
   "outputs": [
    {
     "name": "stdout",
     "output_type": "stream",
     "text": [
      "A= tensor([1, 2, 3, 4])\n",
      "B= tensor([5, 6, 7, 8])\n"
     ]
    }
   ],
   "source": [
    "ar=torch.arange(1,5)\n",
    "tenA = ar.clone().detach() ; print(f'A= {tenA}')\n",
    "tenB = torch.tensor([5,6,7,8]) ; print(f'B= {tenB}')"
   ]
  },
  {
   "cell_type": "markdown",
   "metadata": {},
   "source": [
    "Addittion\n",
    "Το ίδιο πράγμα απλά shorthand σημαίνει ότι δεν καλώ την συνάρτηση γραφοντάς την, είναι κωδικοπρατσούκλη. Αντί να γράφω torch,add() γράφω απλά a+b."
   ]
  },
  {
   "cell_type": "code",
   "execution_count": 22,
   "metadata": {},
   "outputs": [
    {
     "name": "stdout",
     "output_type": "stream",
     "text": [
      "shorthand=tensor([ 6,  8, 10, 12])\n",
      "longhand=tensor([ 6,  8, 10, 12])\n"
     ]
    }
   ],
   "source": [
    "Ab=tenA+tenB ; print(f'shorthand={Ab}')\n",
    "aB=torch.add(tenA,tenB) ; print(f'longhand={aB}')"
   ]
  },
  {
   "cell_type": "markdown",
   "metadata": {},
   "source": [
    "Subtraction"
   ]
  },
  {
   "cell_type": "code",
   "execution_count": 25,
   "metadata": {},
   "outputs": [
    {
     "name": "stdout",
     "output_type": "stream",
     "text": [
      "tensor([4, 4, 4, 4])\n",
      "tensor([4, 4, 4, 4])\n"
     ]
    }
   ],
   "source": [
    "Ab=tenB-tenA ; print(Ab)\n",
    "aB=torch.sub(tenB,tenA) ; print(aB)"
   ]
  },
  {
   "cell_type": "markdown",
   "metadata": {},
   "source": [
    "Creating a Matrix using List Comprehension\\\n",
    "\\\n",
    "Το i στο range(start,finish,step) άρα βγάζει i=1, i=1+3=4 και i=4+3=7\\\n",
    "To j in range(3) αρχίζει από default=0 και πέρνει j=0, j=1, j=2\\\n",
    "\\\n",
    "Δομή List Comprehension\\ \n",
    "[expression for inner_loop for outer_loop]\n",
    "άρα\\\n",
    "Στο list comprehension, ο εσωτερικός βρόχος γράφεται πρώτος, αλλά εκτελείται τελευταίος. Όπως είναι λογικό.\n",
    "\n",
    "    Ο j in range(3) εκτελείται μέσα σε κάθε i.\n",
    "    Ο i in range(1, 8, 3) αλλάζει μόνο αφού τελειώσουν όλα τα j.\n",
    "\n",
    "Αυτό συμβαίνει επειδή το list comprehension φτιάχνει πρώτα τα στοιχεία μιας λίστας (άρα πρώτα ο εσωτερικός βρόχος) και μετά επαναλαμβάνει για κάθε νέο στοιχείο στη λίστα (άρα μετά ο εξωτερικός βρόχος).\n",
    "\n",
    "\n",
    "Άρα ενώ εκτελεί αυτό:\\\n",
    "ΓΙΑ κάθε γραμμή (i)\\\n",
    "    ΓΙΑ κάθε στήλη (j)\\\n",
    "        Υπολόγισε το στοιχείο\\\n",
    "\\\n",
    "\\\n",
    "Απλώς το list comprehension το γράφει αντίστροφα:\\\n",
    "\\\n",
    "Υπολόγισε το στοιχείο ΓΙΑ κάθε στήλη (j) ΓΙΑ κάθε γραμμή (i)\\\n",
    "\\\n",
    "Αυτός είναι ο λόγος που ο i φαίνεται \"μετά\" στο list comprehension, αλλά στην πράξη είναι ο εξωτερικός βρόχος.\n",
    "\n",
    "\n",
    "\n"
   ]
  },
  {
   "cell_type": "code",
   "execution_count": null,
   "metadata": {},
   "outputs": [
    {
     "name": "stdout",
     "output_type": "stream",
     "text": [
      "[1, 2, 3]\n",
      "[4, 5, 6]\n",
      "[7, 8, 9]\n"
     ]
    }
   ],
   "source": [
    "matrix = [[i + j for j in range(3)] for i in range(1, 8, 3)] #List Comprehension\n",
    "\n",
    "for row in matrix:\n",
    "    print(row)\n",
    "\n",
    "\n",
    "matrix_idio = []\n",
    "for i in range(1, 8, 3):   # ΕΞΩΤΕΡΙΚΟΣ ΒΡΟΧΟΣ (δημιουργεί τις γραμμές)\n",
    "    row = []\n",
    "    for j in range(3):     # ΕΣΩΤΕΡΙΚΟΣ ΒΡΟΧΟΣ (δημιουργεί τα στοιχεία της γραμμής)\n",
    "        row.append(i + j)\n",
    "    matrix.append(row)\n"
   ]
  },
  {
   "cell_type": "code",
   "execution_count": null,
   "metadata": {},
   "outputs": [],
   "source": []
  }
 ],
 "metadata": {
  "kernelspec": {
   "display_name": "base",
   "language": "python",
   "name": "python3"
  },
  "language_info": {
   "codemirror_mode": {
    "name": "ipython",
    "version": 3
   },
   "file_extension": ".py",
   "mimetype": "text/x-python",
   "name": "python",
   "nbconvert_exporter": "python",
   "pygments_lexer": "ipython3",
   "version": "3.12.7"
  }
 },
 "nbformat": 4,
 "nbformat_minor": 2
}
