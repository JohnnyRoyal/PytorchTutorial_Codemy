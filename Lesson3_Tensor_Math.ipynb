{
 "cells": [
  {
   "cell_type": "markdown",
   "metadata": {},
   "source": [
    "Tensor Math"
   ]
  },
  {
   "cell_type": "code",
   "execution_count": 1,
   "metadata": {},
   "outputs": [],
   "source": [
    "import torch\n",
    "import numpy as np"
   ]
  },
  {
   "cell_type": "markdown",
   "metadata": {},
   "source": [
    "Δύο τρόποι να φτιάξω τενσορες και ωραίος τρόπος να κάνω print string και variables"
   ]
  },
  {
   "cell_type": "code",
   "execution_count": 2,
   "metadata": {},
   "outputs": [
    {
     "name": "stdout",
     "output_type": "stream",
     "text": [
      "A= tensor([1, 2, 3, 4])\n",
      "B= tensor([5, 6, 7, 8])\n"
     ]
    }
   ],
   "source": [
    "ar=torch.arange(1,5)\n",
    "tenA = ar.clone().detach() ; print(f'A= {tenA}')\n",
    "tenB = torch.tensor([5,6,7,8]) ; print(f'B= {tenB}')"
   ]
  },
  {
   "cell_type": "markdown",
   "metadata": {},
   "source": [
    "Addittion\n",
    "Το ίδιο πράγμα απλά shorthand σημαίνει ότι δεν καλώ την συνάρτηση γραφοντάς την, είναι κωδικοπρατσούκλη. Αντί να γράφω torch,add() γράφω απλά a+b."
   ]
  },
  {
   "cell_type": "code",
   "execution_count": 3,
   "metadata": {},
   "outputs": [
    {
     "name": "stdout",
     "output_type": "stream",
     "text": [
      "shorthand=tensor([ 6,  8, 10, 12])\n",
      "longhand=tensor([ 6,  8, 10, 12])\n"
     ]
    }
   ],
   "source": [
    "Ab=tenA+tenB ; print(f'shorthand={Ab}')\n",
    "aB=torch.add(tenA,tenB) ; print(f'longhand={aB}')"
   ]
  },
  {
   "cell_type": "markdown",
   "metadata": {},
   "source": [
    "Subtraction"
   ]
  },
  {
   "cell_type": "code",
   "execution_count": 4,
   "metadata": {},
   "outputs": [
    {
     "name": "stdout",
     "output_type": "stream",
     "text": [
      "tensor([4, 4, 4, 4])\n",
      "tensor([4, 4, 4, 4])\n"
     ]
    }
   ],
   "source": [
    "Ab=tenB-tenA ; print(Ab)\n",
    "aB=torch.sub(tenB,tenA) ; print(aB)"
   ]
  },
  {
   "cell_type": "markdown",
   "metadata": {},
   "source": [
    "Multiplication"
   ]
  },
  {
   "cell_type": "code",
   "execution_count": 5,
   "metadata": {},
   "outputs": [
    {
     "name": "stdout",
     "output_type": "stream",
     "text": [
      "tensor([ 5, 12, 21, 32])\n",
      "\n",
      "tensor([ 5, 12, 21, 32])\n"
     ]
    }
   ],
   "source": [
    "Ab=tenB*tenA ; print(Ab) ;print()\n",
    "aB=torch.mul(tenB,tenA) ; print(aB)"
   ]
  },
  {
   "cell_type": "markdown",
   "metadata": {},
   "source": [
    "Division"
   ]
  },
  {
   "cell_type": "code",
   "execution_count": 6,
   "metadata": {},
   "outputs": [
    {
     "name": "stdout",
     "output_type": "stream",
     "text": [
      "tensor([5.0000, 3.0000, 2.3333, 2.0000])\n",
      "\n",
      "tensor([5.0000, 3.0000, 2.3333, 2.0000])\n"
     ]
    }
   ],
   "source": [
    "Ab=tenB/tenA ; print(Ab) ;print()\n",
    "aB=torch.div(tenB,tenA) ; print(aB)"
   ]
  },
  {
   "cell_type": "markdown",
   "metadata": {},
   "source": [
    "Remainder (Modulo)"
   ]
  },
  {
   "cell_type": "code",
   "execution_count": 7,
   "metadata": {},
   "outputs": [
    {
     "name": "stdout",
     "output_type": "stream",
     "text": [
      "tensor([1, 2, 3, 4]) tensor([5, 6, 7, 8])\n",
      "\n",
      "tensor([0, 0, 1, 0])\n",
      "\n",
      "tensor([0, 0, 1, 0])\n"
     ]
    }
   ],
   "source": [
    "print(tenA,tenB) ; print()\n",
    "\n",
    "Ab=tenB%tenA ; print(Ab) ;print()\n",
    "\n",
    "aB=torch.remainder(tenB,tenA) ; print(aB)"
   ]
  },
  {
   "cell_type": "markdown",
   "metadata": {},
   "source": [
    "Δύναμη"
   ]
  },
  {
   "cell_type": "code",
   "execution_count": 8,
   "metadata": {},
   "outputs": [
    {
     "name": "stdout",
     "output_type": "stream",
     "text": [
      "tensor([1, 2, 3, 4]) tensor([5, 6, 7, 8])\n",
      "\n"
     ]
    },
    {
     "data": {
      "text/plain": [
       "tensor([    1,    64,  2187, 65536])"
      ]
     },
     "execution_count": 8,
     "metadata": {},
     "output_type": "execute_result"
    }
   ],
   "source": [
    "print(tenA,tenB) ; print()\n",
    "torch.pow(tenA,tenB)"
   ]
  },
  {
   "cell_type": "markdown",
   "metadata": {},
   "source": [
    "Άλλως"
   ]
  },
  {
   "cell_type": "code",
   "execution_count": 9,
   "metadata": {},
   "outputs": [
    {
     "data": {
      "text/plain": [
       "tensor([ 6,  8, 10, 12])"
      ]
     },
     "execution_count": 9,
     "metadata": {},
     "output_type": "execute_result"
    }
   ],
   "source": [
    "tenA.add(tenB) #κτλ"
   ]
  },
  {
   "cell_type": "markdown",
   "metadata": {},
   "source": [
    "Reassignment +=,-=,*=,/=,%=,κτλ\n",
    "\n",
    "\n",
    "ATTENZIONE ΤΑ ΚΕΛΙΑ ΔΕΝ ΕΙΝΑΙ ΑΝΕΞΆΡΤΗΤΑ ΕΑΝ ΑΛΛΑΞΕΙΣ ΠΙΟ ΚΑΤΩ ΜΙΑ ΜΕΤΑΒΛΗΤΗ ΟΤΑΝ ΤΗΝ ΤΡΕΞΕΙΣ ΠΙΟ ΠΑΝΩ ΕΧΕΙ ΤΗΝ ΑΝΑΝΑΙΩΜΈΝΗ ΤΙΜΉ"
   ]
  },
  {
   "cell_type": "code",
   "execution_count": 10,
   "metadata": {},
   "outputs": [
    {
     "name": "stdout",
     "output_type": "stream",
     "text": [
      "Og: A= tensor([1, 2, 3, 4])\n",
      "new A= tensor([ 6,  8, 10, 12])\n",
      "   Reset \n",
      "A= tensor([1, 2, 3, 4])\n",
      "new A= tensor([-4, -4, -4, -4])\n",
      "   Reset \n",
      "A= tensor([1, 2, 3, 4])\n",
      "new A= tensor([ 5, 12, 21, 32])\n",
      "   Reset \n",
      "A= tensor([1, 2, 3, 4])\n",
      "new A= tensor([1, 2, 3, 4])\n",
      "   Reset \n",
      "A= tensor([1, 2, 3, 4])\n"
     ]
    },
    {
     "ename": "RuntimeError",
     "evalue": "result type Float can't be cast to the desired output type Long",
     "output_type": "error",
     "traceback": [
      "\u001b[1;31m---------------------------------------------------------------------------\u001b[0m",
      "\u001b[1;31mRuntimeError\u001b[0m                              Traceback (most recent call last)",
      "Cell \u001b[1;32mIn[10], line 15\u001b[0m\n\u001b[0;32m     12\u001b[0m tenA\u001b[38;5;241m%\u001b[39m\u001b[38;5;241m=\u001b[39mtenB ; \u001b[38;5;28mprint\u001b[39m(\u001b[38;5;124mf\u001b[39m\u001b[38;5;124m'\u001b[39m\u001b[38;5;124mnew A= \u001b[39m\u001b[38;5;132;01m{\u001b[39;00mtenA\u001b[38;5;132;01m}\u001b[39;00m\u001b[38;5;124m'\u001b[39m)\n\u001b[0;32m     14\u001b[0m tenA \u001b[38;5;241m=\u001b[39m ar\u001b[38;5;241m.\u001b[39mclone()\u001b[38;5;241m.\u001b[39mdetach() ; \u001b[38;5;28mprint\u001b[39m(\u001b[38;5;124mf\u001b[39m\u001b[38;5;124m'\u001b[39m\u001b[38;5;124m   Reset \u001b[39m\u001b[38;5;130;01m\\n\u001b[39;00m\u001b[38;5;124mA= \u001b[39m\u001b[38;5;132;01m{\u001b[39;00mtenA\u001b[38;5;132;01m}\u001b[39;00m\u001b[38;5;124m'\u001b[39m)  \u001b[38;5;66;03m#reset\u001b[39;00m\n\u001b[1;32m---> 15\u001b[0m tenA\u001b[38;5;241m/\u001b[39m\u001b[38;5;241m=\u001b[39mtenB ; \u001b[38;5;28mprint\u001b[39m(\u001b[38;5;124mf\u001b[39m\u001b[38;5;124m'\u001b[39m\u001b[38;5;124mnew A= \u001b[39m\u001b[38;5;132;01m{\u001b[39;00mtenA\u001b[38;5;132;01m}\u001b[39;00m\u001b[38;5;124m'\u001b[39m)\n",
      "\u001b[1;31mRuntimeError\u001b[0m: result type Float can't be cast to the desired output type Long"
     ]
    }
   ],
   "source": [
    "tenA = ar.clone().detach() ; print(f'Og: A= {tenA}')\n",
    " #reset\n",
    "tenA+=tenB ; print(f'new A= {tenA}')\n",
    "\n",
    "tenA = ar.clone().detach() ; print(f'   Reset \\nA= {tenA}') #reset\n",
    "tenA-=tenB ; print(f'new A= {tenA}')\n",
    "\n",
    "tenA = ar.clone().detach() ; print(f'   Reset \\nA= {tenA}') #reset\n",
    "tenA*=tenB ; print(f'new A= {tenA}')\n",
    "\n",
    "tenA = ar.clone().detach() ; print(f'   Reset \\nA= {tenA}') #reset\n",
    "tenA%=tenB ; print(f'new A= {tenA}')\n",
    "\n",
    "tenA = ar.clone().detach() ; print(f'   Reset \\nA= {tenA}')  #reset\n",
    "tenA/=tenB ; print(f'new A= {tenA}') #στην διαίρεση δεν δουλέυει"
   ]
  },
  {
   "cell_type": "markdown",
   "metadata": {},
   "source": [
    "Reasignment_"
   ]
  },
  {
   "cell_type": "code",
   "execution_count": null,
   "metadata": {},
   "outputs": [
    {
     "name": "stdout",
     "output_type": "stream",
     "text": [
      "Og: A= tensor([    1,    64,  2187, 65536])\n",
      "new A= tensor([    6,    70,  2194, 65544])\n",
      "\n",
      "   Reset \n",
      "A= tensor([1, 2, 3, 4])\n",
      "new A= tensor([    1,    64,  2187, 65536])\n",
      "\n"
     ]
    },
    {
     "ename": "RuntimeError",
     "evalue": "result type Float can't be cast to the desired output type Long",
     "output_type": "error",
     "traceback": [
      "\u001b[1;31m---------------------------------------------------------------------------\u001b[0m",
      "\u001b[1;31mRuntimeError\u001b[0m                              Traceback (most recent call last)",
      "Cell \u001b[1;32mIn[110], line 11\u001b[0m\n\u001b[0;32m      7\u001b[0m tenA\u001b[38;5;241m.\u001b[39mpow_(tenB)\n\u001b[0;32m      8\u001b[0m \u001b[38;5;28mprint\u001b[39m(\u001b[38;5;124mf\u001b[39m\u001b[38;5;124m'\u001b[39m\u001b[38;5;124mnew A= \u001b[39m\u001b[38;5;132;01m{\u001b[39;00mtenA\u001b[38;5;132;01m}\u001b[39;00m\u001b[38;5;124m'\u001b[39m) ; \u001b[38;5;28mprint\u001b[39m()\n\u001b[1;32m---> 11\u001b[0m tenB\u001b[38;5;241m.\u001b[39mdiv_(tenA)\n",
      "\u001b[1;31mRuntimeError\u001b[0m: result type Float can't be cast to the desired output type Long"
     ]
    }
   ],
   "source": [
    "print(f'Og: A= {tenA}')\n",
    "tenA.add_(tenB) #REASIGNMENT USING _\n",
    "print(f'new A= {tenA}') ; print()\n",
    "\n",
    "tenA = ar.clone().detach() ; print(f'   Reset \\nA= {tenA}')#reset\n",
    "\n",
    "tenA.pow_(tenB) #REASIGNMENT USING _\n",
    "print(f'new A= {tenA}') ; print()\n",
    "\n",
    "\n",
    "tenB.div_(tenA) #Το ίδιο και εδώ δεν δουλεύει στην διαίρεση\n",
    "\n",
    "\n"
   ]
  },
  {
   "cell_type": "markdown",
   "metadata": {},
   "source": [
    "Creating a Matrix using List Comprehension\\\n",
    "\\\n",
    "Το i στο range(start,finish,step) άρα βγάζει i=1, i=1+3=4 και i=4+3=7\\\n",
    "To j in range(3) αρχίζει από default=0 και πέρνει j=0, j=1, j=2\\\n",
    "\\\n",
    "Δομή List Comprehension\\ \n",
    "[expression for inner_loop for outer_loop]\n",
    "άρα\\\n",
    "Στο list comprehension, ο εσωτερικός βρόχος γράφεται πρώτος, αλλά εκτελείται τελευταίος. Όπως είναι λογικό.\n",
    "\n",
    "    Ο j in range(3) εκτελείται μέσα σε κάθε i.\n",
    "    Ο i in range(1, 8, 3) αλλάζει μόνο αφού τελειώσουν όλα τα j.\n",
    "\n",
    "Αυτό συμβαίνει επειδή το list comprehension φτιάχνει πρώτα τα στοιχεία μιας λίστας (άρα πρώτα ο εσωτερικός βρόχος) και μετά επαναλαμβάνει για κάθε νέο στοιχείο στη λίστα (άρα μετά ο εξωτερικός βρόχος).\n",
    "\n",
    "\n",
    "Άρα ενώ εκτελεί αυτό:\\\n",
    "ΓΙΑ κάθε γραμμή (i)\\\n",
    "    ΓΙΑ κάθε στήλη (j)\\\n",
    "        Υπολόγισε το στοιχείο\\\n",
    "\\\n",
    "\\\n",
    "Απλώς το list comprehension το γράφει αντίστροφα:\\\n",
    "\\\n",
    "Υπολόγισε το στοιχείο ΓΙΑ κάθε στήλη (j) ΓΙΑ κάθε γραμμή (i)\\\n",
    "\\\n",
    "Αυτός είναι ο λόγος που ο i φαίνεται \"μετά\" στο list comprehension, αλλά στην πράξη είναι ο εξωτερικός βρόχος.\n",
    "\n",
    "\n",
    "\n"
   ]
  },
  {
   "cell_type": "code",
   "execution_count": 12,
   "metadata": {},
   "outputs": [
    {
     "name": "stdout",
     "output_type": "stream",
     "text": [
      "[1, 2, 3]\n",
      "[4, 5, 6]\n",
      "[7, 8, 9]\n",
      "\n",
      "[2, 3, 4]\n",
      "[6, 7, 8]\n",
      "[10, 11, 12]\n"
     ]
    }
   ],
   "source": [
    "matrix = [[i + j for j in range(3)] for i in range(1, 8, 3)] #List Comprehension\n",
    "\n",
    "for row in matrix:\n",
    "    print(row)\n",
    "\n",
    "\n",
    "matrix_idio = []\n",
    "for i in range(2, 11, 4):   # ΕΞΩΤΕΡΙΚΟΣ ΒΡΟΧΟΣ (δημιουργεί τις γραμμές)\n",
    "    row = []\n",
    "    for j in range(3):     # ΕΣΩΤΕΡΙΚΟΣ ΒΡΟΧΟΣ (δημιουργεί τα στοιχεία της γραμμής)\n",
    "        row.append(i + j)\n",
    "    matrix_idio.append(row)\n",
    "\n",
    "print('')\n",
    "for row in matrix_idio:\n",
    "    print(row)"
   ]
  },
  {
   "cell_type": "markdown",
   "metadata": {},
   "source": [
    "Tests με μεγαλήτερους τένσορες."
   ]
  },
  {
   "cell_type": "code",
   "execution_count": 13,
   "metadata": {},
   "outputs": [
    {
     "name": "stdout",
     "output_type": "stream",
     "text": [
      "tensor([[ 3,  5,  7],\n",
      "        [10, 12, 14],\n",
      "        [17, 19, 21]])\n",
      "\n",
      "tensor([[1, 1, 1],\n",
      "        [2, 2, 2],\n",
      "        [3, 3, 3]])\n",
      "\n",
      "tensor([[  2,   6,  12],\n",
      "        [ 24,  35,  48],\n",
      "        [ 70,  88, 108]])\n",
      "\n"
     ]
    }
   ],
   "source": [
    "tenA=torch.tensor(matrix) ; tenB = torch.tensor(matrix_idio)\n",
    "\n",
    "add=tenA+tenB ; print(add) ; print()\n",
    "sub=tenB-tenA ; print(sub) ; print()\n",
    "mul=tenA*tenB ; print(mul) ; print()\n"
   ]
  },
  {
   "cell_type": "markdown",
   "metadata": {},
   "source": [
    "Συμπέρασμα Οι πράξεις αυτές μεταξύ τενσόρων είναι HADAMARD δηλαδή στοιχείο προς στοιχείο άρα Α(1,1)+Β(1,1)=Γ(1,1)"
   ]
  },
  {
   "cell_type": "code",
   "execution_count": null,
   "metadata": {},
   "outputs": [],
   "source": []
  }
 ],
 "metadata": {
  "kernelspec": {
   "display_name": "base",
   "language": "python",
   "name": "python3"
  },
  "language_info": {
   "codemirror_mode": {
    "name": "ipython",
    "version": 3
   },
   "file_extension": ".py",
   "mimetype": "text/x-python",
   "name": "python",
   "nbconvert_exporter": "python",
   "pygments_lexer": "ipython3",
   "version": "3.12.7"
  }
 },
 "nbformat": 4,
 "nbformat_minor": 2
}
