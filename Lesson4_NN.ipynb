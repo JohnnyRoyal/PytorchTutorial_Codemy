{
 "cells": [
  {
   "cell_type": "code",
   "execution_count": 1,
   "metadata": {},
   "outputs": [],
   "source": [
    "import torch\n",
    "import numpy as np\n",
    "import torch.nn as nn\n",
    "import torch.nn.functional as F"
   ]
  },
  {
   "cell_type": "markdown",
   "metadata": {},
   "source": [
    "Δημιουργεία Class για το Νευρωνικό Δίκτυο είναι Αντικειμενοστρεφής προγραμματισμός.\\\n",
    "Αρχιτεκτονική Δικτύου:\\\n",
    "α) input 4 features\\\n",
    "β) 2 hidden layers fully conected\\\n",
    "γ) output 3 classes"
   ]
  },
  {
   "cell_type": "markdown",
   "metadata": {},
   "source": [
    "Για βασικά των κλασεων δες https://youtu.be/apACNr7DC_s?t=270 \\\n",
    "Το def δηλώνει την δήλωση μιας μεθόδου \\\n",
    "Το __init__ είναι η μέθοδος constractor μας δηλαδή η μέθοδος που κάθε φορά που δημιουργούμε ένα αντικείμενο αυτής της κλάσης μας αρχικοποιεί και δημιουργεί αυτό το αντικείμενο. \\\n",
    "Είναι καλό να βάζω ένα dockstring σε κάθε κλάση και μέθοδο έτσι ώστε να περιγράφω συνοπτικά τι κάνουν.\\\n",
    "Το self συνδέει τις μεταβλητές μέσα στις μεθόδους της κλάσης με το αντικείμενο που δημιουργεί, αλλιώς εαν δεν έχουν self.blabla() και είναι blabla() σκέτο τότε έχουνε εμβέλεια μόνο μέσα στην κλάση. Άρα και για τις μεθόδους μέσα στην class έαν θέλουμε να αφορούν το παιδί θα πρέπει σαν πρώτη παράμετρο να έχουν το self.\\\n",
    "Άρα συνοψίζοντας το self αναφέρεται στο object (=instance στην python) και όποτε θέλω να ανφέρομαι στο object θα βάζω self."
   ]
  },
  {
   "cell_type": "markdown",
   "metadata": {},
   "source": [
    "Η κλάση network είναι υποκλάση της κλάσης nn.Module , στην παρένθεση δίπλα από το όνομα της κλάσης μας δηλώνουμε την κλάση Μαμα.\\\n",
    "δες https://www.w3schools.com/python/python_inheritance.asp και https://www.w3schools.com/python/python_classes.asp \\\n",
    "Επομένως πέρνει τα στοιχεία και τις μεθόδους της nn.Module \\\n",
    "ΑΛΛΑ επειδή φτιάχνουμε μέθοδο initialization (__init__) μέσα στην κλάση μας Network κάνουμε override την __init__ της Μαμάς που χρειάζεται για να δουλέυουνε όλες αυτές οι συναρτήσεις neural network που έχουμε μέσα nn.Linear κτλ... και όχι μόνο αυτό δεν αρχικοποιούνται και άλλα πράγματα σωστά για το νευρωνικό δίκτυο. \\\n",
    "Για αυτόν τον λόγο μέσα στην δικιά μας __init__ το πρώτο πράγμα που θα κάνουμε για να δουλέυουν οι συναρτήσεις και τα λοιπά είναι να καλέσουμε την __init__ της Μαμάς κλάσης, αυτό το κάνουμε καλόντας super().__init__() \\\n",
    "Θα μπορούσε αντί αυτόυ να γράφω συγκεκριμένα την Μαμά κλάση έτσι nn.Module.__init__(self) που είναι το ίδιο πράγμα.\n"
   ]
  },
  {
   "cell_type": "code",
   "execution_count": 2,
   "metadata": {},
   "outputs": [],
   "source": [
    "class Network(nn.Module):\n",
    "    \"\"\"A neural network classifying Irises\"\"\"\n",
    "    def __init__(self,in_features=4,hidden1=8,hidden2=9,out_features=3) :   #def= δημιουργεία function , __init__ αρχικοποιεί ένα νέο αντικείμενο της κλάσηςμ σ.υμφωνα με τις μεταβλητές του\n",
    "        super().__init__() # nn.Module.__init__(self)\n",
    "        self.fc1 = nn.Linear(in_features,hidden1)\n",
    "        self.fc2 = nn.Linear(hidden1,hidden2)\n",
    "        self.out = nn.Linear(hidden2,out_features)\n",
    "    \n",
    "    def forward(self,x):\n",
    "        \"\"\"Συνάρτηση για forward propagation με ReLU\"\"\"\n",
    "        x=F.relu(self.fc1(x)) #εφαρμογή ReLU στο πρώτο hidden layer (fully concected)\n",
    "        x=F.relu(self.fc2(x)) #εφαρμογή ReLU στο πρώτο hidden layer (fully concected)\n",
    "        x=self.out(x) #ταυτόχρονα σπρώχνει το input από το input layer μέχρι το output layer , το output layer δεν έχει ReLU\n",
    "\n",
    "        return x\n",
    "    \n",
    "\n"
   ]
  },
  {
   "cell_type": "markdown",
   "metadata": {},
   "source": [
    "Το παρακάτω είναι για να συμβαδίζει το NN με το Tutorial να έχουνε το ιδιο seed , αρχική τυχαία περιοχή για να μην αποκλίνουνε πολύ το δικό μου NN με αυτό του Tutorial. (δεν μπένει σε κανονικές εφαρμογές άρα) , (δεν είμαι πολύ σίγουρος για την λειτουργεία του seed )"
   ]
  },
  {
   "cell_type": "code",
   "execution_count": 3,
   "metadata": {},
   "outputs": [
    {
     "data": {
      "text/plain": [
       "<torch._C.Generator at 0x1aa89506570>"
      ]
     },
     "execution_count": 3,
     "metadata": {},
     "output_type": "execute_result"
    }
   ],
   "source": [
    "torch.manual_seed(41)"
   ]
  },
  {
   "cell_type": "markdown",
   "metadata": {},
   "source": [
    "Δημιουργεία του NeuralNetwork ,  φτιάχνουμε δηλαδή ένα παιδί της κλάσης Network"
   ]
  },
  {
   "cell_type": "code",
   "execution_count": 4,
   "metadata": {},
   "outputs": [],
   "source": [
    "network = Network()"
   ]
  },
  {
   "cell_type": "markdown",
   "metadata": {},
   "source": [
    "Load βιβλιοθήκες για την φόρτωση των Data και την παρουσιαση τους σε γραφήματα"
   ]
  },
  {
   "cell_type": "code",
   "execution_count": 5,
   "metadata": {},
   "outputs": [],
   "source": [
    "import pandas as pd\n",
    "import matplotlib.pyplot as plt\n",
    "%matplotlib inline"
   ]
  },
  {
   "cell_type": "markdown",
   "metadata": {},
   "source": [
    "Load το Dataset από GitHub link"
   ]
  },
  {
   "cell_type": "code",
   "execution_count": 6,
   "metadata": {},
   "outputs": [],
   "source": [
    "link = 'https://gist.githubusercontent.com/curran/a08a1080b88344b0c8a7/raw/0e7a9b0a5d22642a06d3d5b9bcbad9890c8ee534/iris.csv'\n",
    "Dataframe=pd.read_csv(link)"
   ]
  },
  {
   "cell_type": "markdown",
   "metadata": {},
   "source": [
    "Πρώτα 5 στοιχεία"
   ]
  },
  {
   "cell_type": "code",
   "execution_count": 7,
   "metadata": {},
   "outputs": [
    {
     "data": {
      "text/html": [
       "<div>\n",
       "<style scoped>\n",
       "    .dataframe tbody tr th:only-of-type {\n",
       "        vertical-align: middle;\n",
       "    }\n",
       "\n",
       "    .dataframe tbody tr th {\n",
       "        vertical-align: top;\n",
       "    }\n",
       "\n",
       "    .dataframe thead th {\n",
       "        text-align: right;\n",
       "    }\n",
       "</style>\n",
       "<table border=\"1\" class=\"dataframe\">\n",
       "  <thead>\n",
       "    <tr style=\"text-align: right;\">\n",
       "      <th></th>\n",
       "      <th>sepal_length</th>\n",
       "      <th>sepal_width</th>\n",
       "      <th>petal_length</th>\n",
       "      <th>petal_width</th>\n",
       "      <th>species</th>\n",
       "    </tr>\n",
       "  </thead>\n",
       "  <tbody>\n",
       "    <tr>\n",
       "      <th>0</th>\n",
       "      <td>5.1</td>\n",
       "      <td>3.5</td>\n",
       "      <td>1.4</td>\n",
       "      <td>0.2</td>\n",
       "      <td>setosa</td>\n",
       "    </tr>\n",
       "    <tr>\n",
       "      <th>1</th>\n",
       "      <td>4.9</td>\n",
       "      <td>3.0</td>\n",
       "      <td>1.4</td>\n",
       "      <td>0.2</td>\n",
       "      <td>setosa</td>\n",
       "    </tr>\n",
       "    <tr>\n",
       "      <th>2</th>\n",
       "      <td>4.7</td>\n",
       "      <td>3.2</td>\n",
       "      <td>1.3</td>\n",
       "      <td>0.2</td>\n",
       "      <td>setosa</td>\n",
       "    </tr>\n",
       "    <tr>\n",
       "      <th>3</th>\n",
       "      <td>4.6</td>\n",
       "      <td>3.1</td>\n",
       "      <td>1.5</td>\n",
       "      <td>0.2</td>\n",
       "      <td>setosa</td>\n",
       "    </tr>\n",
       "    <tr>\n",
       "      <th>4</th>\n",
       "      <td>5.0</td>\n",
       "      <td>3.6</td>\n",
       "      <td>1.4</td>\n",
       "      <td>0.2</td>\n",
       "      <td>setosa</td>\n",
       "    </tr>\n",
       "  </tbody>\n",
       "</table>\n",
       "</div>"
      ],
      "text/plain": [
       "   sepal_length  sepal_width  petal_length  petal_width species\n",
       "0           5.1          3.5           1.4          0.2  setosa\n",
       "1           4.9          3.0           1.4          0.2  setosa\n",
       "2           4.7          3.2           1.3          0.2  setosa\n",
       "3           4.6          3.1           1.5          0.2  setosa\n",
       "4           5.0          3.6           1.4          0.2  setosa"
      ]
     },
     "execution_count": 7,
     "metadata": {},
     "output_type": "execute_result"
    }
   ],
   "source": [
    "Dataframe.head()"
   ]
  },
  {
   "cell_type": "markdown",
   "metadata": {},
   "source": [
    "Τελευταία 5 στοιχεία"
   ]
  },
  {
   "cell_type": "code",
   "execution_count": 8,
   "metadata": {},
   "outputs": [
    {
     "data": {
      "text/html": [
       "<div>\n",
       "<style scoped>\n",
       "    .dataframe tbody tr th:only-of-type {\n",
       "        vertical-align: middle;\n",
       "    }\n",
       "\n",
       "    .dataframe tbody tr th {\n",
       "        vertical-align: top;\n",
       "    }\n",
       "\n",
       "    .dataframe thead th {\n",
       "        text-align: right;\n",
       "    }\n",
       "</style>\n",
       "<table border=\"1\" class=\"dataframe\">\n",
       "  <thead>\n",
       "    <tr style=\"text-align: right;\">\n",
       "      <th></th>\n",
       "      <th>sepal_length</th>\n",
       "      <th>sepal_width</th>\n",
       "      <th>petal_length</th>\n",
       "      <th>petal_width</th>\n",
       "      <th>species</th>\n",
       "    </tr>\n",
       "  </thead>\n",
       "  <tbody>\n",
       "    <tr>\n",
       "      <th>145</th>\n",
       "      <td>6.7</td>\n",
       "      <td>3.0</td>\n",
       "      <td>5.2</td>\n",
       "      <td>2.3</td>\n",
       "      <td>virginica</td>\n",
       "    </tr>\n",
       "    <tr>\n",
       "      <th>146</th>\n",
       "      <td>6.3</td>\n",
       "      <td>2.5</td>\n",
       "      <td>5.0</td>\n",
       "      <td>1.9</td>\n",
       "      <td>virginica</td>\n",
       "    </tr>\n",
       "    <tr>\n",
       "      <th>147</th>\n",
       "      <td>6.5</td>\n",
       "      <td>3.0</td>\n",
       "      <td>5.2</td>\n",
       "      <td>2.0</td>\n",
       "      <td>virginica</td>\n",
       "    </tr>\n",
       "    <tr>\n",
       "      <th>148</th>\n",
       "      <td>6.2</td>\n",
       "      <td>3.4</td>\n",
       "      <td>5.4</td>\n",
       "      <td>2.3</td>\n",
       "      <td>virginica</td>\n",
       "    </tr>\n",
       "    <tr>\n",
       "      <th>149</th>\n",
       "      <td>5.9</td>\n",
       "      <td>3.0</td>\n",
       "      <td>5.1</td>\n",
       "      <td>1.8</td>\n",
       "      <td>virginica</td>\n",
       "    </tr>\n",
       "  </tbody>\n",
       "</table>\n",
       "</div>"
      ],
      "text/plain": [
       "     sepal_length  sepal_width  petal_length  petal_width    species\n",
       "145           6.7          3.0           5.2          2.3  virginica\n",
       "146           6.3          2.5           5.0          1.9  virginica\n",
       "147           6.5          3.0           5.2          2.0  virginica\n",
       "148           6.2          3.4           5.4          2.3  virginica\n",
       "149           5.9          3.0           5.1          1.8  virginica"
      ]
     },
     "execution_count": 8,
     "metadata": {},
     "output_type": "execute_result"
    }
   ],
   "source": [
    "Dataframe.tail()"
   ]
  },
  {
   "cell_type": "markdown",
   "metadata": {},
   "source": [
    "Αλλαγή των species σε αριθμούς"
   ]
  },
  {
   "cell_type": "code",
   "execution_count": 9,
   "metadata": {},
   "outputs": [
    {
     "name": "stderr",
     "output_type": "stream",
     "text": [
      "C:\\Users\\jkazi\\AppData\\Local\\Temp\\ipykernel_3752\\3470656377.py:3: FutureWarning: Downcasting behavior in `replace` is deprecated and will be removed in a future version. To retain the old behavior, explicitly call `result.infer_objects(copy=False)`. To opt-in to the future behavior, set `pd.set_option('future.no_silent_downcasting', True)`\n",
      "  Dataframe['species'] = Dataframe['species'].replace('virginica',2)\n"
     ]
    },
    {
     "data": {
      "text/html": [
       "<div>\n",
       "<style scoped>\n",
       "    .dataframe tbody tr th:only-of-type {\n",
       "        vertical-align: middle;\n",
       "    }\n",
       "\n",
       "    .dataframe tbody tr th {\n",
       "        vertical-align: top;\n",
       "    }\n",
       "\n",
       "    .dataframe thead th {\n",
       "        text-align: right;\n",
       "    }\n",
       "</style>\n",
       "<table border=\"1\" class=\"dataframe\">\n",
       "  <thead>\n",
       "    <tr style=\"text-align: right;\">\n",
       "      <th></th>\n",
       "      <th>sepal_length</th>\n",
       "      <th>sepal_width</th>\n",
       "      <th>petal_length</th>\n",
       "      <th>petal_width</th>\n",
       "      <th>species</th>\n",
       "    </tr>\n",
       "  </thead>\n",
       "  <tbody>\n",
       "    <tr>\n",
       "      <th>0</th>\n",
       "      <td>5.1</td>\n",
       "      <td>3.5</td>\n",
       "      <td>1.4</td>\n",
       "      <td>0.2</td>\n",
       "      <td>0</td>\n",
       "    </tr>\n",
       "    <tr>\n",
       "      <th>1</th>\n",
       "      <td>4.9</td>\n",
       "      <td>3.0</td>\n",
       "      <td>1.4</td>\n",
       "      <td>0.2</td>\n",
       "      <td>0</td>\n",
       "    </tr>\n",
       "    <tr>\n",
       "      <th>2</th>\n",
       "      <td>4.7</td>\n",
       "      <td>3.2</td>\n",
       "      <td>1.3</td>\n",
       "      <td>0.2</td>\n",
       "      <td>0</td>\n",
       "    </tr>\n",
       "    <tr>\n",
       "      <th>3</th>\n",
       "      <td>4.6</td>\n",
       "      <td>3.1</td>\n",
       "      <td>1.5</td>\n",
       "      <td>0.2</td>\n",
       "      <td>0</td>\n",
       "    </tr>\n",
       "    <tr>\n",
       "      <th>4</th>\n",
       "      <td>5.0</td>\n",
       "      <td>3.6</td>\n",
       "      <td>1.4</td>\n",
       "      <td>0.2</td>\n",
       "      <td>0</td>\n",
       "    </tr>\n",
       "    <tr>\n",
       "      <th>...</th>\n",
       "      <td>...</td>\n",
       "      <td>...</td>\n",
       "      <td>...</td>\n",
       "      <td>...</td>\n",
       "      <td>...</td>\n",
       "    </tr>\n",
       "    <tr>\n",
       "      <th>145</th>\n",
       "      <td>6.7</td>\n",
       "      <td>3.0</td>\n",
       "      <td>5.2</td>\n",
       "      <td>2.3</td>\n",
       "      <td>2</td>\n",
       "    </tr>\n",
       "    <tr>\n",
       "      <th>146</th>\n",
       "      <td>6.3</td>\n",
       "      <td>2.5</td>\n",
       "      <td>5.0</td>\n",
       "      <td>1.9</td>\n",
       "      <td>2</td>\n",
       "    </tr>\n",
       "    <tr>\n",
       "      <th>147</th>\n",
       "      <td>6.5</td>\n",
       "      <td>3.0</td>\n",
       "      <td>5.2</td>\n",
       "      <td>2.0</td>\n",
       "      <td>2</td>\n",
       "    </tr>\n",
       "    <tr>\n",
       "      <th>148</th>\n",
       "      <td>6.2</td>\n",
       "      <td>3.4</td>\n",
       "      <td>5.4</td>\n",
       "      <td>2.3</td>\n",
       "      <td>2</td>\n",
       "    </tr>\n",
       "    <tr>\n",
       "      <th>149</th>\n",
       "      <td>5.9</td>\n",
       "      <td>3.0</td>\n",
       "      <td>5.1</td>\n",
       "      <td>1.8</td>\n",
       "      <td>2</td>\n",
       "    </tr>\n",
       "  </tbody>\n",
       "</table>\n",
       "<p>150 rows × 5 columns</p>\n",
       "</div>"
      ],
      "text/plain": [
       "     sepal_length  sepal_width  petal_length  petal_width  species\n",
       "0             5.1          3.5           1.4          0.2        0\n",
       "1             4.9          3.0           1.4          0.2        0\n",
       "2             4.7          3.2           1.3          0.2        0\n",
       "3             4.6          3.1           1.5          0.2        0\n",
       "4             5.0          3.6           1.4          0.2        0\n",
       "..            ...          ...           ...          ...      ...\n",
       "145           6.7          3.0           5.2          2.3        2\n",
       "146           6.3          2.5           5.0          1.9        2\n",
       "147           6.5          3.0           5.2          2.0        2\n",
       "148           6.2          3.4           5.4          2.3        2\n",
       "149           5.9          3.0           5.1          1.8        2\n",
       "\n",
       "[150 rows x 5 columns]"
      ]
     },
     "execution_count": 9,
     "metadata": {},
     "output_type": "execute_result"
    }
   ],
   "source": [
    "Dataframe['species'] = Dataframe['species'].replace('setosa',0)\n",
    "Dataframe['species'] = Dataframe['species'].replace('versicolor',1)\n",
    "Dataframe['species'] = Dataframe['species'].replace('virginica',2)\n",
    "\n",
    "Dataframe"
   ]
  },
  {
   "cell_type": "markdown",
   "metadata": {},
   "source": [
    "Χωρισμός X = input features και y = labels \\\n",
    "για την drop δες https://www.w3schools.com/python/pandas/ref_df_drop.asp"
   ]
  },
  {
   "cell_type": "code",
   "execution_count": 10,
   "metadata": {},
   "outputs": [
    {
     "name": "stdout",
     "output_type": "stream",
     "text": [
      "   sepal_length  sepal_width  petal_length  petal_width\n",
      "0           5.1          3.5           1.4          0.2\n",
      "1           4.9          3.0           1.4          0.2\n",
      "2           4.7          3.2           1.3          0.2\n",
      "3           4.6          3.1           1.5          0.2\n",
      "4           5.0          3.6           1.4          0.2 sepal_length    float64\n",
      "sepal_width     float64\n",
      "petal_length    float64\n",
      "petal_width     float64\n",
      "dtype: object\n",
      "0    0\n",
      "1    0\n",
      "2    0\n",
      "3    0\n",
      "4    0\n",
      "Name: species, dtype: int64 int64\n"
     ]
    }
   ],
   "source": [
    "X = Dataframe.drop('species',axis='columns')\n",
    "print(X.head(),X.dtypes)\n",
    "y = Dataframe['species']\n",
    "print(y.head(),y.dtypes)"
   ]
  },
  {
   "cell_type": "markdown",
   "metadata": {},
   "source": [
    "Μετατροπή X και y σε αριθμούς μόνο, από Dataframe σε Numpy array."
   ]
  },
  {
   "cell_type": "code",
   "execution_count": 11,
   "metadata": {},
   "outputs": [
    {
     "name": "stdout",
     "output_type": "stream",
     "text": [
      "float64 int64\n"
     ]
    }
   ],
   "source": [
    "X = X.values #προσοχή αυτό είναι συνάρτηση του pandas\n",
    "y = y.values\n",
    "print(X.dtype,y.dtype)"
   ]
  },
  {
   "cell_type": "markdown",
   "metadata": {},
   "source": [
    "Διαχωρισμός train και test datasets"
   ]
  },
  {
   "cell_type": "code",
   "execution_count": 12,
   "metadata": {},
   "outputs": [],
   "source": [
    "from sklearn.model_selection import train_test_split"
   ]
  },
  {
   "cell_type": "markdown",
   "metadata": {},
   "source": [
    "Άρα φτιάχνω τα μητρώα X_train, X_test,y_train,y_test για να πάρουν τις νέες διαμερίσεις του dataset και ορίζω το train test split ως 80% / 20% . \\\n",
    "δες εδώ https://scikit-learn.org/stable/modules/generated/sklearn.model_selection.train_test_split.html \\\n",
    "την έτιμη συνάρτηση που διαχωρίζει τα δεδομένα σε train και test σύνολα με τυχαίο τρόπο για να αλλάζει κάθε φορά το split."
   ]
  },
  {
   "cell_type": "code",
   "execution_count": 13,
   "metadata": {},
   "outputs": [],
   "source": [
    "X_train, X_test,y_train,y_test = train_test_split(X,y,test_size=0.2,random_state=41)\n",
    "#το random seed = 41 το διαλέγω για να ταιριάζει με αυτό του tutorial αλλιως δεν χρειάζεται.."
   ]
  },
  {
   "cell_type": "markdown",
   "metadata": {},
   "source": [
    "Μετατροπή των X features σε float tensors"
   ]
  },
  {
   "cell_type": "code",
   "execution_count": 14,
   "metadata": {},
   "outputs": [
    {
     "name": "stdout",
     "output_type": "stream",
     "text": [
      "torch.float32 torch.float32\n"
     ]
    }
   ],
   "source": [
    "X_train = torch.FloatTensor(X_train)\n",
    "X_test= torch.FloatTensor(X_test)\n",
    "print(X_train.dtype,X_test.dtype)"
   ]
  },
  {
   "cell_type": "code",
   "execution_count": 15,
   "metadata": {},
   "outputs": [
    {
     "name": "stdout",
     "output_type": "stream",
     "text": [
      "torch.int64 torch.int64\n"
     ]
    }
   ],
   "source": [
    "y_train = torch.LongTensor(y_train)\n",
    "y_test = torch.LongTensor(y_test)\n",
    "print(y_train.dtype,y_test.dtype)"
   ]
  },
  {
   "cell_type": "markdown",
   "metadata": {},
   "source": [
    "Ορισμός Loss function και Optimizer \\\n",
    "Στον optimizer βάζουμε την αρχιτεκτονική του δικτύου και το learning rate που θέλουμε."
   ]
  },
  {
   "cell_type": "code",
   "execution_count": 16,
   "metadata": {},
   "outputs": [],
   "source": [
    "criterion = nn.CrossEntropyLoss()\n",
    "optimizer = torch.optim.Adam(network.parameters(),lr=0.01) "
   ]
  },
  {
   "cell_type": "code",
   "execution_count": 17,
   "metadata": {},
   "outputs": [
    {
     "data": {
      "text/plain": [
       "<bound method Module.parameters of Network(\n",
       "  (fc1): Linear(in_features=4, out_features=8, bias=True)\n",
       "  (fc2): Linear(in_features=8, out_features=9, bias=True)\n",
       "  (out): Linear(in_features=9, out_features=3, bias=True)\n",
       ")>"
      ]
     },
     "execution_count": 17,
     "metadata": {},
     "output_type": "execute_result"
    }
   ],
   "source": [
    "network.parameters"
   ]
  },
  {
   "cell_type": "markdown",
   "metadata": {},
   "source": [
    "Train το Δίκτυο"
   ]
  },
  {
   "cell_type": "markdown",
   "metadata": {},
   "source": [
    "Όταν καλώ το δίκτυο μου για να κάνω forward propagation χρησιμοποιώ network(X_train) και ποτέ network.forward(X_train) διότι δεν υποστηρίζει πολλές λειτουργίες, δεν έχει hooks , δεν συμπεριφέρετε όπως έχω ορίσει εγω  την forward μεθοδο μέσα στην κλάση μου και άλλα πολλά κακά, δες txt του ChatGPT."
   ]
  },
  {
   "cell_type": "code",
   "execution_count": 18,
   "metadata": {},
   "outputs": [
    {
     "name": "stdout",
     "output_type": "stream",
     "text": [
      "Εποχή: 0 με CrossEntropyLoss 1.1251550912857056\n",
      "Εποχή: 10 με CrossEntropyLoss 1.0096259117126465\n",
      "Εποχή: 20 με CrossEntropyLoss 0.8157405853271484\n",
      "Εποχή: 30 με CrossEntropyLoss 0.585706353187561\n",
      "Εποχή: 40 με CrossEntropyLoss 0.3999636471271515\n",
      "Εποχή: 50 με CrossEntropyLoss 0.26768800616264343\n",
      "Εποχή: 60 με CrossEntropyLoss 0.17942361533641815\n",
      "Εποχή: 70 με CrossEntropyLoss 0.12151690572500229\n",
      "Εποχή: 80 με CrossEntropyLoss 0.0860118716955185\n",
      "Εποχή: 90 με CrossEntropyLoss 0.06520851701498032\n"
     ]
    }
   ],
   "source": [
    "epoch = 100 #100 εποχές\n",
    "losses =[] #λίστα που θα βλέπω την μεταβολή του cross entropy loss ανα κάθε εποχή\n",
    "\n",
    "for i in range(epoch):\n",
    "    y_pred = network(X_train) #πάρε πρόβλεψη από το δίκτυο\n",
    "    loss = criterion(y_pred,y_train) # προβλεψη vs αληθινό\n",
    "    #βάλε το loss στην λίστα με τα losses\n",
    "    losses.append(loss.detach().numpy()) # δες https://www.w3schools.com/python/ref_list_append.asp\n",
    "\n",
    "    #κάθε δέκα εποχές να βγάζει και το loss ξανά\n",
    "    if i % 10 == 0:\n",
    "        print(f'Εποχή: {i} με CrossEntropyLoss {loss}')\n",
    "\n",
    "    #back propagation\n",
    "    optimizer.zero_grad() #δες https://pytorch.org/docs/stable/generated/torch.optim.Optimizer.zero_grad.html\n",
    "    #κάνει reset τις παραγώγους από το προηγούμενο back propagation για να είναι ανεξάρτητα κάθες φορά τα back propagations\n",
    "    loss.backward() #το back propagation υπολογίζει τις μερικές παραγώγους\n",
    "    optimizer.step() #αναναιώνει τα βάρυ των νευρώνων σύμφωνα με τις μερικές παραγώγους σύμφωνα με τον αλγόριθμο αναναίωσης που διαλέξαμε εδώ Adam\n"
   ]
  },
  {
   "cell_type": "markdown",
   "metadata": {},
   "source": [
    "Γραφική Loss"
   ]
  },
  {
   "cell_type": "code",
   "execution_count": 19,
   "metadata": {},
   "outputs": [
    {
     "data": {
      "image/png": "[encoded data removed]",
      "text/plain": [
       "<Figure size 640x480 with 1 Axes>"
      ]
     },
     "metadata": {},
     "output_type": "display_data"
    }
   ],
   "source": [
    "plt.plot(range(epoch),losses)\n",
    "plt.ylabel('loss')\n",
    "plt.xticks(np.arange(0,epoch+1,5))\n",
    "plt.xlabel('εποχές')\n",
    "plt.yticks(np.arange(0,1.2,0.1))\n",
    "plt.grid()\n",
    "plt.show() # στο jupiter notebook πρέπει να βάζω αυτό για να φαίνεται το γράφημα"
   ]
  },
  {
   "cell_type": "markdown",
   "metadata": {},
   "source": [
    "Έλεγχος γενικότητας\\\n",
    "\\\n",
    "Περνάω το test dataset από το δίκτυο απενεργοποιόντας το back propagation έτσι ώστε να μην ανανεωθούν τα βάρη των νευρώνων\n",
    "\n"
   ]
  },
  {
   "cell_type": "code",
   "execution_count": 20,
   "metadata": {},
   "outputs": [
    {
     "name": "stdout",
     "output_type": "stream",
     "text": [
      "tensor(0.0538, grad_fn=<NllLossBackward0>) tensor(0.1315)\n",
      "loss diff = -0.07766354084014893 , if <0 it is baaaad, it means it overfits, if they are close it means it has learned the general distribution\n"
     ]
    }
   ],
   "source": [
    "with torch.no_grad():\n",
    "    y_eval = network(X_test)\n",
    "    loss_test = criterion(y_eval,y_test)\n",
    "\n",
    "print(loss,loss_test)\n",
    "print(f'loss diff = {loss - loss_test} , if <0 it is baaaad, it means it overfits, if they are close it means it has learned the general distribution')"
   ]
  },
  {
   "cell_type": "markdown",
   "metadata": {},
   "source": [
    "Θα δούμε τώρα για κάθε ένα από τα test λουλούδια μας πόσα βρήκε σωστά.\\\n",
    "Γιατί το test_Loss είναι χειρότερο απότι περιμέναμε."
   ]
  },
  {
   "cell_type": "markdown",
   "metadata": {},
   "source": [
    "To enumerate κάνει index το μητρώο μας ή το dataset η ότι άλλο έχουμε με πολλές γραμμές, δηλαδή αριθμεί τις γραμμές. Και μετά επιστρέφει το indexed dataset σαν το flower που του έχω ορίσει εγω, άρα το flower είναι το X_test απλά κάθε τετράδα χαρακτηριστικών λουλουδιών έχει και έναν αριθμό ποια είναι. \\\n",
    "To argmax() βρίσκει το μεγαλήτερο αντικείμενο στην μεταβλητή y_val (εδώ τένσορας) και επιστρέφει αυτό. \\\n",
    "Το item() μετατρέπει έναν tensor σε αριθμό float η int , έτσι ώστε να μπορούμε να συκρίνουμε την τιμή αυτή που πέιραμε απο το κομμάτι του τένσορα με άλλους αριθμούς όπως κάνουμε παρακάτω, μόνο για τένσορες με 1 αντικείμενο δουλέυει , δες εδώ https://pytorch.org/docs/stable/generated/torch.Tensor.item.html"
   ]
  },
  {
   "cell_type": "code",
   "execution_count": 21,
   "metadata": {},
   "outputs": [
    {
     "name": "stdout",
     "output_type": "stream",
     "text": [
      "0.) tensor([-5.8760,  4.4628,  6.5124]) \t 2 \t 2\n",
      "1.) tensor([-7.5436,  4.1670,  9.7255]) \t 2 \t 2\n",
      "2.) tensor([-8.4504,  5.1271, 10.1987]) \t 2 \t 2\n",
      "3.) tensor([-4.3398,  5.6267,  2.5608]) \t 1 \t 1\n",
      "4.) tensor([-7.1825,  4.8754,  8.2992]) \t 2 \t 2\n",
      "5.) tensor([-3.3974,  5.3463,  1.2803]) \t 1 \t 1\n",
      "6.) tensor([-5.9231,  4.9822,  5.9997]) \t 2 \t 2\n",
      "7.) tensor([-4.2881,  5.7003,  2.3889]) \t 1 \t 1\n",
      "8.) tensor([-6.5356,  4.9257,  7.1260]) \t 2 \t 2\n",
      "9.) tensor([-8.0509,  4.4129, 10.3286]) \t 2 \t 2\n",
      "10.) tensor([-5.6762,  4.9500,  5.6215]) \t 2 \t 2\n",
      "11.) tensor([ 4.5662, -2.2476, -2.8911]) \t 0 \t 0\n",
      "12.) tensor([ 4.2571, -1.9967, -2.7330]) \t 0 \t 0\n",
      "13.) tensor([-2.1108,  4.0515,  0.5799]) \t 1 \t 1\n",
      "14.) tensor([ 3.4575, -1.2098, -2.3514]) \t 0 \t 0\n",
      "15.) tensor([-5.4724,  5.1165,  5.0934]) \t 1 \t 2\n",
      "16.) tensor([ 4.0557, -1.7949, -2.6492]) \t 0 \t 0\n",
      "17.) tensor([-5.8075,  4.6053,  6.2458]) \t 2 \t 1\n",
      "18.) tensor([ 4.4343, -2.1392, -2.8242]) \t 0 \t 0\n",
      "19.) tensor([ 3.4528, -1.2514, -2.3660]) \t 0 \t 0\n",
      "20.) tensor([-2.6189,  4.5619,  0.8574]) \t 1 \t 1\n",
      "21.) tensor([-7.7412,  4.7377,  9.4199]) \t 2 \t 2\n",
      "22.) tensor([ 3.5744, -1.3221, -2.4135]) \t 0 \t 0\n",
      "23.) tensor([ 4.5365, -2.2383, -2.8684]) \t 0 \t 0\n",
      "24.) tensor([-2.6579,  4.6177,  0.8823]) \t 1 \t 1\n",
      "25.) tensor([-3.2865,  5.2229,  1.2164]) \t 1 \t 1\n",
      "26.) tensor([-4.6514,  5.7776,  2.9273]) \t 1 \t 1\n",
      "27.) tensor([-2.9464,  4.8892,  1.0379]) \t 1 \t 1\n",
      "28.) tensor([ 4.5847, -2.2687, -2.8974]) \t 0 \t 0\n",
      "29.) tensor([-4.5784,  5.4554,  3.1660]) \t 1 \t 1\n",
      "\n",
      "Έχουμε 28 σωστά\n"
     ]
    }
   ],
   "source": [
    "correct =0\n",
    "with torch.no_grad():\n",
    "    for i, flower in enumerate(X_test):\n",
    "        y_val = network(flower)\n",
    "\n",
    "        print(f'{i}.) {str(y_val)} \\t {y_val.argmax().item()} \\t {y_test[i]}')\n",
    "\n",
    "        if y_val.argmax().item() == y_test[i]:\n",
    "            correct +=1\n",
    "\n",
    "print(f'\\nΈχουμε {correct} σωστά')"
   ]
  },
  {
   "cell_type": "markdown",
   "metadata": {},
   "source": [
    "Εισαγωγή νέου στοιχείου για classification"
   ]
  },
  {
   "cell_type": "code",
   "execution_count": 22,
   "metadata": {},
   "outputs": [],
   "source": [
    "nea_iris = torch.tensor([4.7,3.2,1.3,0.2])"
   ]
  },
  {
   "cell_type": "markdown",
   "metadata": {},
   "source": [
    "Ορίζω function για test για να μην το γράφω συνέχεια :)"
   ]
  },
  {
   "cell_type": "code",
   "execution_count": 31,
   "metadata": {},
   "outputs": [
    {
     "name": "stdout",
     "output_type": "stream",
     "text": [
      "New Iris flower with dimensions: [4.7 3.2 1.3 0.2] and i think it is a 0\n"
     ]
    }
   ],
   "source": [
    "def test(z,show_pred=False):\n",
    "    \"\"\"Method to get a prediction for ONE new flower , dont put show_pred == True , there is no point :)\"\"\"\n",
    "    with torch.no_grad():\n",
    "        prediction = network(z)\n",
    "        if show_pred == True :\n",
    "            return prediction\n",
    "    print(f'New Iris flower with dimensions: {str(z.numpy())} and i think it is a {prediction.argmax().item()}')\n",
    "\n",
    "test(nea_iris)\n",
    "    "
   ]
  },
  {
   "cell_type": "markdown",
   "metadata": {},
   "source": [
    "Αποθήκευση του Δικτύου. \\\n",
    "για περισσότερες πληροφορίες δες εδώ την γενική φιλοσοφία https://pytorch.org/tutorials/beginner/saving_loading_models.html \\\n",
    "Όταν αποθηκεύω το δίκτυο μπορώ αντί να αποθηκεύω όλο το μοντέλο , να σώζω μόνο τα weights και άλλες παραμέτρους του δικτύου με αυτόν τον τρόπο εξοικονομώ χώρο. \\\n",
    "δες εδώ https://pytorch.org/tutorials/recipes/recipes/what_is_state_dict.html τι είναι το state_dict \\\n",
    "Εαν ήθελα να αποθηκεύσω όλο το μοντέλο θα έγραφα αυτό torch.save(model, 'model.pt') \\\n",
    "To file που θα πρέπει να χρησιμοποιήσω είναι το .pt διότι αυτό ειναι το πορτεινόμενο από την PyTorch δες και εδώ https://www.geeksforgeeks.org/understanding-file-extensions-in-pytorch-pt-pth-and-pwf/ γενικά πρέπει να αποφέυγω τα άλλα extensions και να χρησιμοποιώ μόνο .pt διότι αυτό είναι το συμβατό με την PyTorch και σε αυτό που έχουν δομήσει την αρχιτεκτονική γύρω.\n"
   ]
  },
  {
   "cell_type": "code",
   "execution_count": 32,
   "metadata": {},
   "outputs": [],
   "source": [
    "torch.save(network.state_dict(),'ypertato diktyo kathgoriopoihshs Iridwn (Leloudiwn).pt')"
   ]
  },
  {
   "cell_type": "markdown",
   "metadata": {},
   "source": [
    "Φόρτωση του δικτύου. \\\n",
    "για την load δες περισσότερα εδώ https://pytorch.org/docs/main/generated/torch.load.html \\\n"
   ]
  },
  {
   "cell_type": "code",
   "execution_count": 33,
   "metadata": {},
   "outputs": [
    {
     "name": "stderr",
     "output_type": "stream",
     "text": [
      "C:\\Users\\jkazi\\AppData\\Local\\Temp\\ipykernel_3752\\2743797639.py:2: FutureWarning: You are using `torch.load` with `weights_only=False` (the current default value), which uses the default pickle module implicitly. It is possible to construct malicious pickle data which will execute arbitrary code during unpickling (See https://github.com/pytorch/pytorch/blob/main/SECURITY.md#untrusted-models for more details). In a future release, the default value for `weights_only` will be flipped to `True`. This limits the functions that could be executed during unpickling. Arbitrary objects will no longer be allowed to be loaded via this mode unless they are explicitly allowlisted by the user via `torch.serialization.add_safe_globals`. We recommend you start setting `weights_only=True` for any use case where you don't have full control of the loaded file. Please open an issue on GitHub for any issues related to this experimental feature.\n",
      "  loaded_network.load_state_dict(torch.load('ypertato diktyo kathgoriopoihshs Iridwn (Leloudiwn).pt'))\n"
     ]
    },
    {
     "data": {
      "text/plain": [
       "<All keys matched successfully>"
      ]
     },
     "execution_count": 33,
     "metadata": {},
     "output_type": "execute_result"
    }
   ],
   "source": [
    "loaded_network = Network()\n",
    "loaded_network.load_state_dict(torch.load('ypertato diktyo kathgoriopoihshs Iridwn (Leloudiwn).pt'))"
   ]
  },
  {
   "cell_type": "markdown",
   "metadata": {},
   "source": [
    "Το eval() το χρησιμοποιώ όταν θέλω να δοκιμάσω το δίκτυο σε καινούργια αληθινά δεδομένα, μειώνει την τυχαιότητα έτσι ώστε να έχει πιο προβλέψιμη συμπεριφορά και επαναλαμβάνοντας το ίδιο τέστ να πέρνω τα ίδια αποτελεέσματα. \\\n",
    "δες και εδω https://www.geeksforgeeks.org/what-does-model-eval-do-in-pytorch/"
   ]
  },
  {
   "cell_type": "code",
   "execution_count": 34,
   "metadata": {},
   "outputs": [
    {
     "data": {
      "text/plain": [
       "Network(\n",
       "  (fc1): Linear(in_features=4, out_features=8, bias=True)\n",
       "  (fc2): Linear(in_features=8, out_features=9, bias=True)\n",
       "  (out): Linear(in_features=9, out_features=3, bias=True)\n",
       ")"
      ]
     },
     "execution_count": 34,
     "metadata": {},
     "output_type": "execute_result"
    }
   ],
   "source": [
    "loaded_network.eval()"
   ]
  },
  {
   "cell_type": "markdown",
   "metadata": {},
   "source": [
    "Υπέρτατος οδηγός Φόρτωσης και Αποθήκευσης δικτύου https://pytorch.org/tutorials/beginner/saving_loading_models.html#what-is-a-state-dict"
   ]
  },
  {
   "cell_type": "markdown",
   "metadata": {},
   "source": []
  }
 ],
 "metadata": {
  "kernelspec": {
   "display_name": "base",
   "language": "python",
   "name": "python3"
  },
  "language_info": {
   "codemirror_mode": {
    "name": "ipython",
    "version": 3
   },
   "file_extension": ".py",
   "mimetype": "text/x-python",
   "name": "python",
   "nbconvert_exporter": "python",
   "pygments_lexer": "ipython3",
   "version": "3.12.7"
  }
 },
 "nbformat": 4,
 "nbformat_minor": 2
}
